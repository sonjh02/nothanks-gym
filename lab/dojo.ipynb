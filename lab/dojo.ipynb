{
 "cells": [
  {
   "cell_type": "code",
   "execution_count": 1,
   "metadata": {},
   "outputs": [],
   "source": [
    "import numpy as np\n",
    "import matplotlib.pyplot as plt\n",
    "from ipypb import irange"
   ]
  },
  {
   "cell_type": "code",
   "execution_count": 2,
   "metadata": {},
   "outputs": [],
   "source": [
    "def gym(players):\n",
    "    n = len(players)\n",
    "    base_coin = 21 - np.clip(n, 5, 7)*2\n",
    "    replay = []\n",
    "    finish = []\n",
    "    place_value = list((np.arange(n) + 1)*20)\n",
    "    place_value[0] -= 20\n",
    "    place_value[-1] += 20\n",
    "\n",
    "    def init():\n",
    "        deck = np.arange(33) + 3\n",
    "        np.random.shuffle(deck)\n",
    "        deck = list(deck[:24])\n",
    "        state = [[base_coin, []] for _ in range(n)]\n",
    "        turn = np.random.randint(n)\n",
    "        pot = None\n",
    "        return state, turn, pot, deck\n",
    "    \n",
    "    def get_serial(state, turn, pot): # 0~55 (56) + 3~35 (33)\n",
    "        s_rot = state[turn:] + state[:turn]\n",
    "        out = np.zeros((n+1, 89), int)\n",
    "        for i in range(n):\n",
    "            out[i,s_rot[i][0]] = 1\n",
    "            for c in s_rot[i][1]:\n",
    "                out[i,c+53] = 1\n",
    "        if pot is not None:\n",
    "            out[-1,pot[0]] = 1\n",
    "            out[-1,pot[1]+53] = 1\n",
    "        return out\n",
    "\n",
    "    def get_score(state, turn):\n",
    "        sc = state[turn]\n",
    "        out = sc[0]\n",
    "        if len(sc[1]) > 0:\n",
    "            out -= sc[1][0]\n",
    "            for p, q in zip(sc[1][:-1], sc[1][1:]):\n",
    "                if p+1 != q:\n",
    "                    out -= q\n",
    "        return out\n",
    "    \n",
    "    def play(state, turn, pot):\n",
    "        sc = state[turn]\n",
    "        s0, c0 = get_serial(state, turn, pot), get_score(state, turn)\n",
    "        ans = sc[0] > 0 and players[turn](s0)\n",
    "        if ans:\n",
    "            sc[0] -= 1\n",
    "            pot[0] += 1\n",
    "        else:\n",
    "            sc[0] += pot[0]\n",
    "            sc[1].append(pot[1])\n",
    "            sc[1].sort()\n",
    "            pot = None\n",
    "        s1, c1 = get_serial(state, turn, pot), get_score(state, turn)\n",
    "        replay.append((c1-c0, s0, s1))\n",
    "        return ans\n",
    "        \n",
    "    def run():\n",
    "        state, turn, pot, deck = init()\n",
    "        while len(deck) > 0:\n",
    "            pot = [0, deck.pop()]\n",
    "            while play(state, turn, pot): \n",
    "                turn = (turn + 1) % n\n",
    "                \n",
    "        scores = [get_score(state, i) for i in range(n)]\n",
    "        for place, idx in enumerate(np.argsort(scores)):\n",
    "            finish.append((get_serial(state, idx, None), scores[idx] + place_value[place]))\n",
    "        \n",
    "        return state\n",
    "            \n",
    "    return run, replay, finish"
   ]
  },
  {
   "cell_type": "code",
   "execution_count": 3,
   "metadata": {},
   "outputs": [],
   "source": [
    "def luabot(s):\n",
    "    rand = np.random.rand()\n",
    "    if rand < 0.1: return True\n",
    "    if rand > 0.9: return False\n",
    "    \n",
    "    s = [[i for i in range(89) if s_[i]] for s_ in s]\n",
    "    s = [s_[:1] + [c - 53 for c in s_[1:]] for s_ in s]\n",
    "    \n",
    "    if s[-1][1] - s[-1][0] < 3: \n",
    "        return False\n",
    "    if len(s[0]) > 1 and np.abs(np.r_[s[0][1:]] - s[-1][1]).min() == 1: \n",
    "        for i in range(1, len(s)-1):\n",
    "            if len(s[0]) > 1 and np.abs(np.r_[s[0][1:]] - s[-1][1]).min() == 1:\n",
    "                return False\n",
    "        return s[-1][1] - s[-1][0] > 2*s[-1][0]\n",
    "    if s[0][0] > 11: \n",
    "        return True\n",
    "    return np.random.randint(1, s[-1][1]) > s[-1][0] + 10 - s[0][0]"
   ]
  },
  {
   "cell_type": "code",
   "execution_count": 4,
   "metadata": {},
   "outputs": [
    {
     "data": {
      "text/plain": [
       "[[9, [3, 4, 7, 8, 9, 16, 22, 23, 24, 25, 33]],\n",
       " [11, [28, 29]],\n",
       " [7, [15, 19, 20, 30]],\n",
       " [13, [5, 6, 11, 21]],\n",
       " [15, [17, 32, 35]]]"
      ]
     },
     "execution_count": 4,
     "metadata": {},
     "output_type": "execute_result"
    }
   ],
   "source": [
    "run, replay, finish = gym([luabot for _ in range(5)])\n",
    "run()"
   ]
  },
  {
   "cell_type": "code",
   "execution_count": 5,
   "metadata": {},
   "outputs": [
    {
     "data": {
      "text/html": [
       "<div><span class=\"Text-label\" style=\"display:inline-block; overflow:hidden; white-space:nowrap; text-overflow:ellipsis; min-width:0; max-width:15ex; vertical-align:middle; text-align:right\"></span>\n",
       "<progress style=\"width:60ex\" max=\"9999\" value=\"9999\" class=\"Progress-main\"/></progress>\n",
       "<span class=\"Progress-label\"><strong>100%</strong></span>\n",
       "<span class=\"Iteration-label\">9999/9999</span>\n",
       "<span class=\"Time-label\">[01:17<00:00, 0.01s/it]</span></div>"
      ],
      "text/plain": [
       "\u001b[A\u001b[2K\r",
       " [████████████████████████████████████████████████████████████] 9999/9999 [01:17<00:00, 0.01s/it]"
      ]
     },
     "metadata": {},
     "output_type": "display_data"
    },
    {
     "data": {
      "text/plain": [
       "(782017, 50000)"
      ]
     },
     "execution_count": 5,
     "metadata": {},
     "output_type": "execute_result"
    }
   ],
   "source": [
    "for i in irange(9999):\n",
    "    run()\n",
    "len(replay), len(finish)"
   ]
  },
  {
   "cell_type": "code",
   "execution_count": 6,
   "metadata": {},
   "outputs": [],
   "source": [
    "def save_epi(file, replay, finish):\n",
    "    vc  = np.array([r[0] for r in replay])\n",
    "    vs0 = np.array([r[1] for r in replay])\n",
    "    vs1 = np.array([r[2] for r in replay])\n",
    "    vf  = np.array([f[1] for f in finish])\n",
    "    vsf = np.array([f[0] for f in finish])\n",
    "    np.savez_compressed(file, vc=vc, vs0=vs0, vs1=vs1, vf=vf, vsf=vsf)\n",
    "    return vc.shape, vs0.shape, vs1.shape, vf.shape, vsf.shape"
   ]
  },
  {
   "cell_type": "code",
   "execution_count": 7,
   "metadata": {},
   "outputs": [],
   "source": [
    "def load_epi(file):\n",
    "    obj = np.load(file)\n",
    "    vc  = obj['vc']\n",
    "    vs0 = obj['vs0']\n",
    "    vs1 = obj['vs1']\n",
    "    vf  = obj['vf']\n",
    "    vsf = obj['vsf']\n",
    "    return vc, vs0, vs1, vf, vsf"
   ]
  },
  {
   "cell_type": "code",
   "execution_count": 8,
   "metadata": {},
   "outputs": [
    {
     "data": {
      "text/plain": [
       "((782017,), (782017, 6, 89), (782017, 6, 89), (50000,), (50000, 6, 89))"
      ]
     },
     "execution_count": 8,
     "metadata": {},
     "output_type": "execute_result"
    }
   ],
   "source": [
    "save_epi('r0.npz', replay, finish)"
   ]
  },
  {
   "cell_type": "code",
   "execution_count": 9,
   "metadata": {},
   "outputs": [],
   "source": [
    "vc, vs0, vs1, vf, vsf = load_epi('r0.npz')"
   ]
  },
  {
   "cell_type": "code",
   "execution_count": 10,
   "metadata": {},
   "outputs": [
    {
     "data": {
      "text/plain": [
       "((782017,), (782017, 6, 89), (782017, 6, 89), (50000,), (50000, 6, 89))"
      ]
     },
     "execution_count": 10,
     "metadata": {},
     "output_type": "execute_result"
    }
   ],
   "source": [
    "vc.shape, vs0.shape, vs1.shape, vf.shape, vsf.shape"
   ]
  },
  {
   "cell_type": "code",
   "execution_count": 11,
   "metadata": {},
   "outputs": [],
   "source": [
    "import torch\n",
    "import torch.nn as nn\n",
    "import torch.optim as optim\n",
    "import torch.nn.functional as F\n",
    "\n",
    "from IPython.display import clear_output"
   ]
  },
  {
   "cell_type": "code",
   "execution_count": 12,
   "metadata": {},
   "outputs": [],
   "source": [
    "device = torch.device(\"cuda\" if torch.cuda.is_available() else \"cpu\")"
   ]
  },
  {
   "cell_type": "code",
   "execution_count": 13,
   "metadata": {},
   "outputs": [],
   "source": [
    "class DVN(nn.Module):\n",
    "    def __init__(self, n=5):\n",
    "        super(DVN, self).__init__()\n",
    "        \n",
    "        sz1 = (n+1)*89\n",
    "        sz2 = (n+1)*40\n",
    "        sz3 = (n+1)*20\n",
    "        sz4 = (n+1)*10\n",
    "        sz5 = (n+1)*5\n",
    "\n",
    "        self.ds1 = nn.Linear(sz1, sz2)\n",
    "        self.ds2 = nn.Linear(sz2, sz3)\n",
    "        self.ds3 = nn.Linear(sz3, sz4)\n",
    "        self.ds4 = nn.Linear(sz4, sz5)\n",
    "        self.ds5 = nn.Linear(sz5, 1)\n",
    "        \n",
    "    def forward(self, x):\n",
    "        x = F.relu(self.ds1(x - 0.5))\n",
    "        x = F.relu(self.ds2(x))\n",
    "        x = F.relu(self.ds3(x))\n",
    "        x = F.relu(self.ds4(x))\n",
    "        \n",
    "        return self.ds5(x)"
   ]
  },
  {
   "cell_type": "code",
   "execution_count": 14,
   "metadata": {},
   "outputs": [],
   "source": [
    "net = DVN(5)"
   ]
  },
  {
   "cell_type": "code",
   "execution_count": 15,
   "metadata": {},
   "outputs": [],
   "source": [
    "def train_direct(net, x, y, epochs=10, batch_size=1024):\n",
    "    n = x.shape[0]\n",
    "    assert y.shape[0] == n\n",
    "    net.train()\n",
    "    history = []\n",
    "    criterion = nn.SmoothL1Loss()\n",
    "    optimizer = optim.Adam(net.parameters())\n",
    "    \n",
    "    x = x.reshape((n,-1))\n",
    "    y = y.reshape((n,-1))\n",
    "    \n",
    "    for epoch in range(epochs):\n",
    "        rndarg = np.arange(n)\n",
    "        np.random.shuffle(rndarg)\n",
    "        for batch in range(0, n, batch_size):\n",
    "            x_batch = torch.from_numpy(x[rndarg[batch:][:batch_size]]).float()\n",
    "            y_batch = torch.from_numpy(y[rndarg[batch:][:batch_size]]).float()\n",
    "            loss = criterion(net(x_batch), y_batch)\n",
    "            optimizer.zero_grad()\n",
    "            loss.backward()\n",
    "            optimizer.step()\n",
    "        history.append(loss.data.cpu().numpy() + 0)\n",
    "        clear_output(wait=True)\n",
    "        plt.figure(figsize=(12,5))\n",
    "        plt.plot(history, 'k.')\n",
    "        plt.show()"
   ]
  },
  {
   "cell_type": "code",
   "execution_count": null,
   "metadata": {},
   "outputs": [
    {
     "data": {
      "image/png": "[encoded data removed]",
      "text/plain": [
       "<Figure size 864x360 with 1 Axes>"
      ]
     },
     "metadata": {
      "needs_background": "light"
     },
     "output_type": "display_data"
    }
   ],
   "source": [
    "train_direct(net, vsf, vf, epochs=300, batch_size=256)"
   ]
  },
  {
   "cell_type": "code",
   "execution_count": null,
   "metadata": {},
   "outputs": [],
   "source": [
    "train_direct(net, vsf, vf, epochs=200, batch_size=512)"
   ]
  },
  {
   "cell_type": "code",
   "execution_count": null,
   "metadata": {},
   "outputs": [],
   "source": [
    "train_direct(net, vsf, vf, epochs=100, batch_size=1024)"
   ]
  },
  {
   "cell_type": "code",
   "execution_count": null,
   "metadata": {},
   "outputs": [],
   "source": [
    "vf_pred = net(torch.from_numpy(vsf.reshape((-1, 534))).float()).data.numpy().flatten()"
   ]
  },
  {
   "cell_type": "code",
   "execution_count": null,
   "metadata": {},
   "outputs": [],
   "source": [
    "plt.figure(figsize=(12,12))\n",
    "plt.plot(vf_pred, vf, 'k.')\n",
    "plt.show()"
   ]
  },
  {
   "cell_type": "code",
   "execution_count": null,
   "metadata": {},
   "outputs": [],
   "source": []
  }
 ],
 "metadata": {
  "kernelspec": {
   "display_name": "Python 3",
   "language": "python",
   "name": "python3"
  },
  "language_info": {
   "codemirror_mode": {
    "name": "ipython",
    "version": 3
   },
   "file_extension": ".py",
   "mimetype": "text/x-python",
   "name": "python",
   "nbconvert_exporter": "python",
   "pygments_lexer": "ipython3",
   "version": "3.7.8"
  }
 },
 "nbformat": 4,
 "nbformat_minor": 4
}
