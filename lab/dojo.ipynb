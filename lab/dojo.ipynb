{
 "cells": [
  {
   "cell_type": "code",
   "execution_count": 1,
   "metadata": {},
   "outputs": [],
   "source": [
    "import numpy as np\n",
    "import matplotlib.pyplot as plt\n",
    "from ipypb import irange"
   ]
  },
  {
   "cell_type": "code",
   "execution_count": 2,
   "metadata": {},
   "outputs": [],
   "source": [
    "def gym(players):\n",
    "    n = len(players)\n",
    "    base_coin = 21 - np.clip(n, 5, 7)*2\n",
    "    replay = []\n",
    "    finish = []\n",
    "    place_value = list((np.arange(n) + 1)*20)\n",
    "    place_value[0] -= 20\n",
    "    place_value[-1] += 20\n",
    "\n",
    "    def init():\n",
    "        deck = np.arange(33) + 3\n",
    "        np.random.shuffle(deck)\n",
    "        deck = list(deck[:24])\n",
    "        state = [[base_coin, []] for _ in range(n)]\n",
    "        turn = np.random.randint(n)\n",
    "        pot = None\n",
    "        return state, turn, pot, deck\n",
    "    \n",
    "    def get_serial(state, turn, pot): # 0~55 (56) + 3~35 (33)\n",
    "        s_rot = state[turn:] + state[:turn]\n",
    "        out = np.zeros((n+1, 89), int)\n",
    "        for i in range(n):\n",
    "            out[i,s_rot[i][0]] = 1\n",
    "            for c in s_rot[i][1]:\n",
    "                out[i,c+53] = 1\n",
    "        if pot is not None:\n",
    "            out[-1,pot[0]] = 1\n",
    "            out[-1,pot[1]+53] = 1\n",
    "        return out\n",
    "\n",
    "    def get_score(state, turn):\n",
    "        sc = state[turn]\n",
    "        out = sc[0]\n",
    "        if len(sc[1]) > 0:\n",
    "            out -= sc[1][0]\n",
    "            for p, q in zip(sc[1][:-1], sc[1][1:]):\n",
    "                if p+1 != q:\n",
    "                    out -= q\n",
    "        return out\n",
    "    \n",
    "    def play(state, turn, pot):\n",
    "        sc = state[turn]\n",
    "        s0, c0 = get_serial(state, turn, pot), get_score(state, turn)\n",
    "        ans = sc[0] > 0 and players[turn](s0)\n",
    "        if ans:\n",
    "            sc[0] -= 1\n",
    "            pot[0] += 1\n",
    "        else:\n",
    "            sc[0] += pot[0]\n",
    "            sc[1].append(pot[1])\n",
    "            sc[1].sort()\n",
    "            pot = None\n",
    "        s1, c1 = get_serial(state, turn, pot), get_score(state, turn)\n",
    "        replay.append((c1-c0, s0, s1))\n",
    "        return ans\n",
    "        \n",
    "    def run():\n",
    "        state, turn, pot, deck = init()\n",
    "        while len(deck) > 0:\n",
    "            pot = [0, deck.pop()]\n",
    "            while play(state, turn, pot): \n",
    "                turn = (turn + 1) % n\n",
    "                \n",
    "        scores = [get_score(state, i) for i in range(n)]\n",
    "        for place, idx in enumerate(np.argsort(scores)):\n",
    "            finish.append((get_serial(state, idx, None), scores[idx] + place_value[place]))\n",
    "        \n",
    "        return state\n",
    "            \n",
    "    return run, replay, finish"
   ]
  },
  {
   "cell_type": "code",
   "execution_count": 3,
   "metadata": {},
   "outputs": [],
   "source": [
    "def luabot(s):\n",
    "    rand = np.random.rand()\n",
    "    if rand < 0.1: return True\n",
    "    if rand > 0.9: return False\n",
    "    \n",
    "    s = [[i for i in range(89) if s_[i]] for s_ in s]\n",
    "    s = [s_[:1] + [c - 53 for c in s_[1:]] for s_ in s]\n",
    "    \n",
    "    if s[-1][1] - s[-1][0] < 3: \n",
    "        return False\n",
    "    if len(s[0]) > 1 and np.abs(np.r_[s[0][1:]] - s[-1][1]).min() == 1: \n",
    "        for i in range(1, len(s)-1):\n",
    "            if len(s[0]) > 1 and np.abs(np.r_[s[0][1:]] - s[-1][1]).min() == 1:\n",
    "                return False\n",
    "        return s[-1][1] - s[-1][0] > 2*s[-1][0]\n",
    "    if s[0][0] > 11: \n",
    "        return True\n",
    "    return np.random.randint(1, s[-1][1]) > s[-1][0] + 10 - s[0][0]"
   ]
  },
  {
   "cell_type": "code",
   "execution_count": 4,
   "metadata": {},
   "outputs": [
    {
     "data": {
      "text/plain": [
       "[[16, [6, 7, 8, 12, 20, 21, 22, 23]],\n",
       " [6, [4, 26, 30]],\n",
       " [12, [14, 15, 33, 34]],\n",
       " [11, [17, 28, 35]],\n",
       " [10, [3, 5, 9, 11, 16, 18]]]"
      ]
     },
     "execution_count": 4,
     "metadata": {},
     "output_type": "execute_result"
    }
   ],
   "source": [
    "run, replay, finish = gym([luabot for _ in range(5)])\n",
    "run()"
   ]
  },
  {
   "cell_type": "code",
   "execution_count": 5,
   "metadata": {},
   "outputs": [
    {
     "data": {
      "text/html": [
       "<div><span class=\"Text-label\" style=\"display:inline-block; overflow:hidden; white-space:nowrap; text-overflow:ellipsis; min-width:0; max-width:15ex; vertical-align:middle; text-align:right\"></span>\n",
       "<progress style=\"width:60ex\" max=\"9999\" value=\"9999\" class=\"Progress-main\"/></progress>\n",
       "<span class=\"Progress-label\"><strong>100%</strong></span>\n",
       "<span class=\"Iteration-label\">9999/9999</span>\n",
       "<span class=\"Time-label\">[01:17<00:00, 0.01s/it]</span></div>"
      ],
      "text/plain": [
       "\u001b[A\u001b[2K\r",
       " [████████████████████████████████████████████████████████████] 9999/9999 [01:17<00:00, 0.01s/it]"
      ]
     },
     "metadata": {},
     "output_type": "display_data"
    },
    {
     "data": {
      "text/plain": [
       "(782478, 50000)"
      ]
     },
     "execution_count": 5,
     "metadata": {},
     "output_type": "execute_result"
    }
   ],
   "source": [
    "for i in irange(9999):\n",
    "    run()\n",
    "len(replay), len(finish)"
   ]
  },
  {
   "cell_type": "code",
   "execution_count": 6,
   "metadata": {},
   "outputs": [],
   "source": [
    "def save_epi(file, replay, finish):\n",
    "    vc  = np.array([r[0] for r in replay])\n",
    "    vs0 = np.array([r[1] for r in replay])\n",
    "    vs1 = np.array([r[2] for r in replay])\n",
    "    vf  = np.array([f[0] for f in finish])\n",
    "    vsf = np.array([f[1] for f in finish])\n",
    "    np.savez_compressed(file, vc=vc, vs0=vs0, vs1=vs1, vf=vf, vsf=vsf)\n",
    "    return vc.shape, vs0.shape, vs1.shape, vf.shape, vsf.shape"
   ]
  },
  {
   "cell_type": "code",
   "execution_count": 7,
   "metadata": {},
   "outputs": [],
   "source": [
    "def load_epi(file):\n",
    "    obj = np.load(file)\n",
    "    vc  = obj['vc']\n",
    "    vs0 = obj['vs0']\n",
    "    vs1 = obj['vs1']\n",
    "    vf  = obj['vf']\n",
    "    vsf = obj['vsf']\n",
    "    return vc, vs0, vs1, vf, vsf"
   ]
  },
  {
   "cell_type": "code",
   "execution_count": 8,
   "metadata": {},
   "outputs": [
    {
     "data": {
      "text/plain": [
       "((782478,), (782478, 6, 89), (782478, 6, 89), (50000, 6, 89), (50000,))"
      ]
     },
     "execution_count": 8,
     "metadata": {},
     "output_type": "execute_result"
    }
   ],
   "source": [
    "save_epi('r0.npz', replay, finish)"
   ]
  },
  {
   "cell_type": "code",
   "execution_count": 9,
   "metadata": {},
   "outputs": [],
   "source": [
    "vc, vs0, vs1, vf, vsf = load_epi('r0.npz')"
   ]
  },
  {
   "cell_type": "code",
   "execution_count": 10,
   "metadata": {},
   "outputs": [
    {
     "data": {
      "text/plain": [
       "((782478,), (782478, 6, 89), (782478, 6, 89), (50000, 6, 89), (50000,))"
      ]
     },
     "execution_count": 10,
     "metadata": {},
     "output_type": "execute_result"
    }
   ],
   "source": [
    "vc.shape, vs0.shape, vs1.shape, vf.shape, vsf.shape"
   ]
  },
  {
   "cell_type": "code",
   "execution_count": null,
   "metadata": {},
   "outputs": [],
   "source": []
  }
 ],
 "metadata": {
  "kernelspec": {
   "display_name": "Python 3",
   "language": "python",
   "name": "python3"
  },
  "language_info": {
   "codemirror_mode": {
    "name": "ipython",
    "version": 3
   },
   "file_extension": ".py",
   "mimetype": "text/x-python",
   "name": "python",
   "nbconvert_exporter": "python",
   "pygments_lexer": "ipython3",
   "version": "3.7.8"
  }
 },
 "nbformat": 4,
 "nbformat_minor": 4
}
