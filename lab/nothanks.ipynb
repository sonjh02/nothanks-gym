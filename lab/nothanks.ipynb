{
 "cells": [
  {
   "cell_type": "code",
   "execution_count": 1,
   "metadata": {},
   "outputs": [],
   "source": [
    "import numpy as np\n",
    "from ipypb import irange\n",
    "from sklearn.ensemble import RandomForestClassifier"
   ]
  },
  {
   "cell_type": "code",
   "execution_count": 2,
   "metadata": {},
   "outputs": [],
   "source": [
    "def get0():\n",
    "    state = np.zeros((6,89), bool)\n",
    "    state[:5,11] = True\n",
    "    state[5,0] = True\n",
    "    return state\n",
    "\n",
    "def disp(s):\n",
    "    print('0    .    1    .    2    .    3    .    4    .    5    . 3 .    1    .    2    .    3    .')\n",
    "    for line in s.astype(int).astype(str):\n",
    "        print(''.join(line[:56]) + ' ' + ''.join(line[56:]))\n",
    "\n",
    "def pack(s):\n",
    "    return np.packbits(s)\n",
    "\n",
    "def unpack(p):\n",
    "    return np.unpackbits(p, count=534, axis=1).astype(bool)\n",
    "    \n",
    "def parse(s):\n",
    "    s = [[i for i in range(89) if s_[i]] for s_ in s]\n",
    "    s = [s_[:1] + [c - 53 for c in s_[1:]] for s_ in s]\n",
    "    pot = s[-1][0]\n",
    "    top = s[-1][1]\n",
    "    coin = s[0][0]  \n",
    "    return pot, top, coin, s\n",
    "\n",
    "def draw(s):\n",
    "    no = [i for i in range(33) if not s[:5,56:].sum(axis=0)[i]]\n",
    "    if len(no) > 9:\n",
    "        np.random.shuffle(no)\n",
    "        nc = no[0]\n",
    "        s[-1,56+nc] = True\n",
    "        return True\n",
    "    else:\n",
    "        return False\n",
    "\n",
    "def play(s, n):\n",
    "    pot, top, coin, _ = parse(s)\n",
    "    if coin > 0 and n:\n",
    "        s[0,:56] = False\n",
    "        s[0,coin-1] = True\n",
    "        s[-1,:56] = False\n",
    "        s[-1,pot+1] = True\n",
    "        return True\n",
    "    else:\n",
    "        s[0,:56] = False\n",
    "        s[0,pot+coin] = True\n",
    "        s[0,56:] += s[-1,56:]\n",
    "        s[-1,:] = False\n",
    "        s[-1,0] = True\n",
    "        return False\n",
    "\n",
    "def shift(s):\n",
    "    s[:5,:] = np.roll(s[:5,:], -1, axis=0)\n",
    "    \n",
    "def getp(s):\n",
    "    def rscore(line):\n",
    "        coin = [c for c in range(56) if line[c]][0]\n",
    "        card = -3 if line[56] else 0\n",
    "        for v, (p, c) in enumerate(zip(line[56:-1], line[57:])):\n",
    "            if (not p) and c: \n",
    "                card -= v + 4\n",
    "        return coin, card, coin+card\n",
    "    scores = [rscore(line) for line in s[:5]]\n",
    "    coin = scores[0][0]\n",
    "    card = scores[0][1]\n",
    "    raw = scores[0][-1]\n",
    "    place = [120,80,60,40,0][sum([1 for score in scores[1:] if score[-1] > raw])]\n",
    "    return coin, card, raw, place, raw+place\n",
    "    \n",
    "def bot0(s):\n",
    "    pot, top, coin, s = parse(s)\n",
    "    m = []\n",
    "    adj = {top-1, top+1}\n",
    "    for i in range(5):\n",
    "        if adj & set(s[i][1:]):\n",
    "            m.append(i)\n",
    "    if len(m) == 0 or 0 not in m:\n",
    "        return np.random.randint(1, top) > pot - coin + 10\n",
    "    if np.amax(m) == 0:\n",
    "        return (top-pot)/(pot+1) > 2\n",
    "    return False\n",
    "\n",
    "def example():\n",
    "    s = get0()\n",
    "    disp(s)\n",
    "    while draw(s):\n",
    "        disp(s)\n",
    "        while play(s, bot0(s)):\n",
    "            disp(s)\n",
    "            shift(s)\n",
    "            disp(s)\n",
    "        disp(s)\n",
    "    print('report:')\n",
    "    for i in range(5):\n",
    "        print(i, '>', getp(s))\n",
    "        shift(s)"
   ]
  },
  {
   "cell_type": "markdown",
   "metadata": {},
   "source": [
    "# base"
   ]
  },
  {
   "cell_type": "code",
   "execution_count": null,
   "metadata": {},
   "outputs": [
    {
     "data": {
      "text/html": [
       "<div><span class=\"Text-label\" style=\"display:inline-block; overflow:hidden; white-space:nowrap; text-overflow:ellipsis; min-width:0; max-width:15ex; vertical-align:middle; text-align:right\"></span>\n",
       "<progress style=\"width:60ex\" max=\"10000\" value=\"215\" class=\"Progress-main\"/></progress>\n",
       "<span class=\"Progress-label\"><strong>2%</strong></span>\n",
       "<span class=\"Iteration-label\">100/10000</span>\n",
       "<span class=\"Time-label\">[00:09<00:00, 0.04s/it]</span></div>"
      ],
      "text/plain": [
       "\u001b[A\u001b[2K\r",
       " [█###########################################################] 215/10000 [00:09<00:00, 0.04s/it]"
      ]
     },
     "metadata": {},
     "output_type": "display_data"
    }
   ],
   "source": [
    "X, Y = [], []\n",
    "for _ in irange(10000):\n",
    "    s = get0()\n",
    "    while draw(s):\n",
    "        while True:\n",
    "            X.append(pack(s))\n",
    "            Y.append(play(s, bot0(s)))\n",
    "            if not Y[-1]: break\n",
    "            shift(s)\n",
    "        \n",
    "X = np.r_[X]\n",
    "Y = pack(np.r_[Y])\n",
    "X.shape, X.dtype, Y.shape, Y.dtype            "
   ]
  },
  {
   "cell_type": "code",
   "execution_count": null,
   "metadata": {},
   "outputs": [],
   "source": [
    "np.savez_compressed('base.npz', X=X, Y=Y)"
   ]
  },
  {
   "cell_type": "code",
   "execution_count": null,
   "metadata": {},
   "outputs": [],
   "source": [
    "X = unpack(np.load('base.npz')['X'])\n",
    "Y = np.unpackbits(np.load('base.npz')['Y'], count=X.shape[0]).astype(bool)\n",
    "X.shape, X.dtype, Y.shape, Y.dtype"
   ]
  },
  {
   "cell_type": "code",
   "execution_count": null,
   "metadata": {},
   "outputs": [],
   "source": [
    "def bot_factory(X, Y):\n",
    "    clf = RandomForestClassifier()\n",
    "    clf.fit(X, Y)\n",
    "    def bot_(s):\n",
    "        return np.random.rand() > clf.predict_proba(s.reshape((1,-1)))[0,0]\n",
    "    return bot_\n",
    "\n",
    "def test_bot(bots):\n",
    "    s = get0()\n",
    "    t = 0\n",
    "    while draw(s):\n",
    "        while play(s, bots[t](s)):\n",
    "            shift(s)\n",
    "            t += 1\n",
    "            t %= 5\n",
    "    while t < 5:\n",
    "        shift(s)\n",
    "        t += 1\n",
    "    disp(s)\n",
    "    for i in range(5):\n",
    "        score = getp(s)\n",
    "        print(i, '>', bots[i], f'> score={score[2]}, reward={score[3]}, total={score[4]}')\n",
    "        shift(s)"
   ]
  },
  {
   "cell_type": "code",
   "execution_count": null,
   "metadata": {},
   "outputs": [],
   "source": [
    "bot1 = bot_factory(X,Y)"
   ]
  },
  {
   "cell_type": "code",
   "execution_count": null,
   "metadata": {},
   "outputs": [],
   "source": [
    "test_bot([bot1, bot1, bot1, bot1, bot1])"
   ]
  },
  {
   "cell_type": "code",
   "execution_count": null,
   "metadata": {},
   "outputs": [],
   "source": []
  }
 ],
 "metadata": {
  "kernelspec": {
   "display_name": "Python 3",
   "language": "python",
   "name": "python3"
  },
  "language_info": {
   "codemirror_mode": {
    "name": "ipython",
    "version": 3
   },
   "file_extension": ".py",
   "mimetype": "text/x-python",
   "name": "python",
   "nbconvert_exporter": "python",
   "pygments_lexer": "ipython3",
   "version": "3.7.6"
  }
 },
 "nbformat": 4,
 "nbformat_minor": 4
}
