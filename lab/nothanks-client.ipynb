{
 "cells": [
  {
   "cell_type": "code",
   "execution_count": 1,
   "metadata": {},
   "outputs": [],
   "source": [
    "import socketio\n",
    "import numpy as np\n",
    "\n",
    "def lua():\n",
    "    sio = socketio.Client()\n",
    "    sio.connect('http://nothanks.sonjh02.me:3001')\n",
    "    sio.emit('take_seat', f'lua{i}')\n",
    "    \n",
    "    @sio.event\n",
    "    def your_turn(data):\n",
    "        hand = data['you']['hand']\n",
    "        coin = data['you']['coin']\n",
    "        card = data['open']\n",
    "        pot = data['coin']\n",
    "        gap = np.abs(np.r_[hand] - card)\n",
    "        if gap.size > 0:\n",
    "            gap = gap.min()\n",
    "        else:\n",
    "            gap = 33\n",
    "        if gap <= 1 or card - pot <= 3:\n",
    "            return False\n",
    "        if coin > 10:\n",
    "            return True\n",
    "        if np.random.randint(1, card) < pot + 11 - coin:\n",
    "            return False\n",
    "        return True\n",
    "    \n",
    "def me():\n",
    "    sio = socketio.Client()\n",
    "    sio.connect('http://nothanks.sonjh02.me:3001')\n",
    "    sio.emit('take_seat', f'손재현{i}')\n",
    "    \n",
    "    def gap(h, c):\n",
    "        g = 33\n",
    "        for v in h:\n",
    "            g = np.clip(np.abs(v-c), 0, g)\n",
    "        return g\n",
    "    \n",
    "    @sio.event\n",
    "    def your_turn(data):\n",
    "        opponents = data['opponents']\n",
    "        hand = data['you']['hand']\n",
    "        coin = data['you']['coin']\n",
    "        card = data['open']\n",
    "        pot = data['coin']\n",
    "        \n",
    "        if gap(hand, card) == 1:\n",
    "            contender = False\n",
    "            for opponent in opponents:\n",
    "                if gap(opponent['hand'], card) == 1:\n",
    "                    contender = True\n",
    "                    return False\n",
    "            return np.random.randint(1, card) > pot + 15 + len(opponents) - coin\n",
    "        else:\n",
    "            ch = False\n",
    "            cl = False\n",
    "            for opponent in opponents:\n",
    "                if gap(opponent['hand'], card+1) == 1:\n",
    "                    ch = True\n",
    "                if gap(opponent['hand'], card-1) == 1:\n",
    "                    cl = True\n",
    "                    \n",
    "            if ch or cl:\n",
    "                return np.random.randint(1, card) > pot + 3 - coin\n",
    "            else:\n",
    "                if len(hand) == 0:\n",
    "                    return np.random.randint(1, card) > pot + 10 - coin \n",
    "                else:\n",
    "                    return np.random.randint(1, card) > pot + 5 - coin\n"
   ]
  },
  {
   "cell_type": "code",
   "execution_count": 4,
   "metadata": {},
   "outputs": [],
   "source": [
    "i = 1\n",
    "me()"
   ]
  },
  {
   "cell_type": "code",
   "execution_count": 5,
   "metadata": {},
   "outputs": [],
   "source": [
    "i = 2\n",
    "me()"
   ]
  },
  {
   "cell_type": "code",
   "execution_count": 6,
   "metadata": {},
   "outputs": [],
   "source": [
    "i = 3\n",
    "me()"
   ]
  },
  {
   "cell_type": "code",
   "execution_count": null,
   "metadata": {},
   "outputs": [],
   "source": []
  }
 ],
 "metadata": {
  "kernelspec": {
   "display_name": "Python 3",
   "language": "python",
   "name": "python3"
  },
  "language_info": {
   "codemirror_mode": {
    "name": "ipython",
    "version": 3
   },
   "file_extension": ".py",
   "mimetype": "text/x-python",
   "name": "python",
   "nbconvert_exporter": "python",
   "pygments_lexer": "ipython3",
   "version": "3.7.8"
  }
 },
 "nbformat": 4,
 "nbformat_minor": 4
}
