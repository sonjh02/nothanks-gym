{
 "cells": [
  {
   "cell_type": "code",
   "execution_count": 1,
   "metadata": {},
   "outputs": [],
   "source": [
    "import numpy as np"
   ]
  },
  {
   "cell_type": "code",
   "execution_count": null,
   "metadata": {},
   "outputs": [],
   "source": [
    "def gym(players):\n",
    "    n = len(self.players)\n",
    "    base_coin = 21 - np.clip(n, 5, 7)*2\n",
    "    replay = []\n",
    "    terminal = []\n",
    "  \n",
    "    def init():\n",
    "        deck = np.arange(33) + 3\n",
    "        np.random.shuffle(deck)\n",
    "        deck = list(deck[:24])\n",
    "        state = [[base_coin, []] for _ in range(n)]\n",
    "        turn = np.random.randint(n)\n",
    "        pot = None\n",
    "        return state, turn, pot, deck\n",
    "    \n",
    "    def get_score(hand):\n",
    "        out = hand[0]\n",
    "        for p, q in zip(hand[:-1], hand[1:])\n",
    "            if p + 1 != q:\n",
    "                out += q\n",
    "        return out\n",
    "    \n",
    "    def get_serial(state, pot): # 0~55 (56) + 3~35 (33)\n",
    "        out = np.zeros((n+1, 89), int)\n",
    "        for i in range(n):\n",
    "            out[i,state[i][0]] = 1\n",
    "            for c in state[i][1]:\n",
    "                out[i,c+53] = 1\n",
    "        if pot is not None:\n",
    "            out[-1,pot[0]] = 1\n",
    "            out[-1,pot[1]+53] = 1\n",
    "        return out\n",
    "    \n",
    "    def run():\n",
    "        state, turn, pot, deck = init()\n",
    "        \n",
    "        def play():\n",
    "            nothanks = state[turn][0] > 0 && players[turn](state[turn:] + state[:turn] + pot)\n",
    "            s0 = get_serial(state, pot)\n",
    "            if nothanks:\n",
    "                state[turn,0] -= 1\n",
    "                pot[0] += 1\n",
    "                s1 = get_serial(state, pot)\n",
    "                replay.append(-1, s0, s1)\n",
    "            else:\n",
    "                state[turn,0] += pot[0]\n",
    "                state[turn,1].append(pot[1])\n",
    "                state[turn,1].sort()\n",
    "                pot = None\n",
    "                s1 = get_serial(state, pot)\n",
    "                replay.append(s0, s1)\n",
    "            return nothanks\n",
    "        \n",
    "        while len(deck) > 0:\n",
    "            pot = [0, deck.pop()]\n",
    "            \n",
    "        \n",
    "        \n",
    "        \n",
    "        \n",
    "    return run "
   ]
  },
  {
   "cell_type": "code",
   "execution_count": 65,
   "metadata": {},
   "outputs": [
    {
     "data": {
      "text/plain": [
       "dtype('int32')"
      ]
     },
     "execution_count": 65,
     "metadata": {},
     "output_type": "execute_result"
    }
   ],
   "source": [
    "np.zeros((2+1, 89), int).dtype"
   ]
  },
  {
   "cell_type": "code",
   "execution_count": 30,
   "metadata": {},
   "outputs": [
    {
     "ename": "SyntaxError",
     "evalue": "invalid syntax (<ipython-input-30-5311dc1acf83>, line 31)",
     "output_type": "error",
     "traceback": [
      "\u001b[1;36m  File \u001b[1;32m\"<ipython-input-30-5311dc1acf83>\"\u001b[1;36m, line \u001b[1;32m31\u001b[0m\n\u001b[1;33m    if self.pot is None\u001b[0m\n\u001b[1;37m                       ^\u001b[0m\n\u001b[1;31mSyntaxError\u001b[0m\u001b[1;31m:\u001b[0m invalid syntax\n"
     ]
    }
   ],
   "source": [
    "class Gym:\n",
    "    def __init__(self, players):\n",
    "        n = len(players)\n",
    "        assert 3 <= n and n <= 7\n",
    "        self.players = players\n",
    "        self.record = []\n",
    "        self.terminal = []\n",
    "    \n",
    "    def clear(self):\n",
    "        n = len(self.players)\n",
    "        base_coin = 21 - np.clip(n, 5, 7)*2\n",
    "        self.state = [[base_coin, []] for _ in range(n)]\n",
    "        self.pot = None\n",
    "        self.turn = np.random.randint(n)\n",
    "    \n",
    "    def shuffle(self):\n",
    "        cards = np.arange(33) + 3\n",
    "        np.random.shuffle(cards)\n",
    "        this.deck = list(cards[:24])\n",
    "    \n",
    "    def get_score(self, state):\n",
    "        out = state[0,0]\n",
    "        if state[0,1] == 1: \n",
    "            out -= 3\n",
    "        for i in range(2, 34):\n",
    "            if state[0,i] == 1 and state[0,i-1] == 0:\n",
    "                out -= i + 2\n",
    "        return out\n",
    "    \n",
    "    def get_serial_(self, coin, hand):\n",
    "        return np.r_[[coin] + list(np.r_[[(card == np.arange(33) + 2).astype(int) for card in hand]].sum(axis=0))]\n",
    "    \n",
    "    def get_serial(self):\n",
    "        return np.r_[[self.get_serial_(*s) for s in (self.state[self.turn:] + self.state[:self.turn])] + [self.get_serial_(*self.pot)]]\n",
    "    \n",
    "    def play(self):\n",
    "        if self.pot is None\n",
    "            if len(self.deck) == 0: return False\n",
    "            self.pot = [0, [self.deck.pop()]]\n",
    "        else:\n",
    "            nothanks = (self.state[self.turn][0] > 0) && self.players[self.turn](self.state[self.turn:] + self.state[:self.turn], self.pot)\n",
    "            if nothanks:\n",
    "                s0 = \n",
    "                self.state[turn,0] -= 1\n",
    "                self.pot[0] += 1\n",
    "                print(s0.shape)\n",
    "                \n",
    "                replay = [self.state[turn:] + self.state[:turn], self.pot]\n",
    "                self.state[turn,0] -= 1\n",
    "                self.pot[0] += 1\n",
    "                replay.append(np.r_[self.state, self.pot])\n",
    "            else:\n",
    "                \n",
    "                \n",
    "            \n",
    "        return True\n",
    "            \n",
    "        "
   ]
  },
  {
   "cell_type": "code",
   "execution_count": 35,
   "metadata": {},
   "outputs": [
    {
     "data": {
      "text/plain": [
       "array([1, 2, 3], dtype=int32)"
      ]
     },
     "execution_count": 35,
     "metadata": {},
     "output_type": "execute_result"
    }
   ],
   "source": [
    "np.r_[1,2,3]"
   ]
  },
  {
   "cell_type": "code",
   "execution_count": 38,
   "metadata": {},
   "outputs": [
    {
     "data": {
      "text/plain": [
       "array([0, 0, 0, 0, 0, 0, 0, 0, 0, 0, 0, 0, 1, 0, 0, 0, 0, 0, 0, 0, 0, 0,\n",
       "       0, 0, 0, 0, 0, 0, 0, 0, 0, 0, 0])"
      ]
     },
     "execution_count": 38,
     "metadata": {},
     "output_type": "execute_result"
    }
   ],
   "source": [
    "np.r_[[0] + (np.arange(33) == 12)]"
   ]
  },
  {
   "cell_type": "code",
   "execution_count": 44,
   "metadata": {},
   "outputs": [
    {
     "name": "stdout",
     "output_type": "stream",
     "text": [
      "[0, 0, 0, 1, 1, 1, 0, 0, 0, 0, 0, 0, 0, 0, 0, 0, 0, 0, 0, 0, 0, 0, 0, 0, 0, 0, 0, 0, 0, 0, 0, 0, 0]\n"
     ]
    }
   ],
   "source": [
    "hand = [5,6,7]\n",
    "print(list(np.r_[[(card == np.arange(33) + 2).astype(int) for card in hand]].sum(axis=0)))"
   ]
  },
  {
   "cell_type": "code",
   "execution_count": 50,
   "metadata": {},
   "outputs": [
    {
     "data": {
      "text/plain": [
       "array([10,  0,  0,  0,  0,  0,  0,  0,  0,  0,  0,  0,  0,  0,  0,  0,  1,\n",
       "        0,  0,  0,  0,  0,  0,  0,  1,  1,  0,  0,  0,  0,  0,  0,  0,  0])"
      ]
     },
     "execution_count": 50,
     "metadata": {},
     "output_type": "execute_result"
    }
   ],
   "source": [
    "coin = 10\n",
    "hand = [25,26,17]\n",
    "np.r_[[coin] + list(np.r_[[(card == np.arange(33) + 2).astype(int) for card in hand]].sum(axis=0))]"
   ]
  },
  {
   "cell_type": "code",
   "execution_count": 51,
   "metadata": {},
   "outputs": [],
   "source": [
    "state = [np.r_[[coin] + list(np.r_[[(card == np.arange(33) + 2).astype(int) for card in hand]].sum(axis=0))] for _ in range(5)]"
   ]
  },
  {
   "cell_type": "code",
   "execution_count": 53,
   "metadata": {},
   "outputs": [],
   "source": [
    "state = [[1, [3, 4]], [2, [5, 6]], [7, [8, 9]], [10, [11, 12]], [13, [14, 15]]]"
   ]
  },
  {
   "cell_type": "code",
   "execution_count": 54,
   "metadata": {},
   "outputs": [],
   "source": [
    "def get_serial(coin, hand):\n",
    "        return np.r_[[coin] + list(np.r_[[(card == np.arange(33) + 2).astype(int) for card in hand]].sum(axis=0))]"
   ]
  },
  {
   "cell_type": "code",
   "execution_count": 61,
   "metadata": {},
   "outputs": [
    {
     "data": {
      "text/plain": [
       "array([[ 1,  0,  1,  1,  0,  0,  0,  0,  0,  0,  0,  0,  0,  0,  0,  0,\n",
       "         0,  0,  0,  0,  0,  0,  0,  0,  0,  0,  0,  0,  0,  0,  0,  0,\n",
       "         0,  0],\n",
       "       [ 2,  0,  0,  0,  1,  1,  0,  0,  0,  0,  0,  0,  0,  0,  0,  0,\n",
       "         0,  0,  0,  0,  0,  0,  0,  0,  0,  0,  0,  0,  0,  0,  0,  0,\n",
       "         0,  0],\n",
       "       [ 7,  0,  0,  0,  0,  0,  0,  1,  1,  0,  0,  0,  0,  0,  0,  0,\n",
       "         0,  0,  0,  0,  0,  0,  0,  0,  0,  0,  0,  0,  0,  0,  0,  0,\n",
       "         0,  0],\n",
       "       [10,  0,  0,  0,  0,  0,  0,  0,  0,  0,  1,  1,  0,  0,  0,  0,\n",
       "         0,  0,  0,  0,  0,  0,  0,  0,  0,  0,  0,  0,  0,  0,  0,  0,\n",
       "         0,  0],\n",
       "       [13,  0,  0,  0,  0,  0,  0,  0,  0,  0,  0,  0,  0,  1,  1,  0,\n",
       "         0,  0,  0,  0,  0,  0,  0,  0,  0,  0,  0,  0,  0,  0,  0,  0,\n",
       "         0,  0],\n",
       "       [ 2,  0,  0,  0,  0,  0,  0,  0,  0,  0,  0,  0,  0,  0,  0,  0,\n",
       "         0,  0,  0,  1,  0,  0,  0,  0,  0,  0,  0,  0,  0,  0,  0,  0,\n",
       "         0,  0]])"
      ]
     },
     "execution_count": 61,
     "metadata": {},
     "output_type": "execute_result"
    }
   ],
   "source": [
    "np.r_[[get_serial(*s) for s in state] + [get_serial(*[2,[20]])]]"
   ]
  },
  {
   "cell_type": "code",
   "execution_count": null,
   "metadata": {},
   "outputs": [],
   "source": []
  }
 ],
 "metadata": {
  "kernelspec": {
   "display_name": "Python 3",
   "language": "python",
   "name": "python3"
  },
  "language_info": {
   "codemirror_mode": {
    "name": "ipython",
    "version": 3
   },
   "file_extension": ".py",
   "mimetype": "text/x-python",
   "name": "python",
   "nbconvert_exporter": "python",
   "pygments_lexer": "ipython3",
   "version": "3.7.8"
  }
 },
 "nbformat": 4,
 "nbformat_minor": 4
}
